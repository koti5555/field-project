{
  "nbformat": 4,
  "nbformat_minor": 0,
  "metadata": {
    "colab": {
      "provenance": [],
      "include_colab_link": true
    },
    "kernelspec": {
      "name": "python3",
      "display_name": "Python 3"
    },
    "language_info": {
      "name": "python"
    }
  },
  "cells": [
    {
      "cell_type": "markdown",
      "metadata": {
        "id": "view-in-github",
        "colab_type": "text"
      },
      "source": [
        "<a href=\"https://colab.research.google.com/github/koti5555/field-project/blob/main/Untitled8.ipynb\" target=\"_parent\"><img src=\"https://colab.research.google.com/assets/colab-badge.svg\" alt=\"Open In Colab\"/></a>"
      ]
    },
    {
      "cell_type": "code",
      "execution_count": null,
      "metadata": {
        "id": "WKHY8k5X3jmq"
      },
      "outputs": [],
      "source": [
        "!pip install gTTS\n"
      ]
    },
    {
      "cell_type": "code",
      "source": [
        "from gtts import gTTS\n",
        "from IPython.display import Audio"
      ],
      "metadata": {
        "id": "OVDnyM1-3oQO"
      },
      "execution_count": null,
      "outputs": []
    },
    {
      "cell_type": "code",
      "source": [
        "a = gTTS(input ('enter any text:'))\n"
      ],
      "metadata": {
        "id": "SWYmRQrP3pJt"
      },
      "execution_count": null,
      "outputs": []
    },
    {
      "cell_type": "code",
      "source": [
        "a.save(\"speech1.mp3\")\n"
      ],
      "metadata": {
        "id": "-s9KS4973sW8"
      },
      "execution_count": null,
      "outputs": []
    },
    {
      "cell_type": "code",
      "source": [
        "Audio('speech1.mp3')\n"
      ],
      "metadata": {
        "id": "KF9Khvg43wB0"
      },
      "execution_count": null,
      "outputs": []
    },
    {
      "cell_type": "code",
      "source": [
        "!pip install SpeechRecognition pyttsx3 pydub"
      ],
      "metadata": {
        "id": "udcLxkWy9Msp"
      },
      "execution_count": null,
      "outputs": []
    },
    {
      "cell_type": "code",
      "source": [
        "import speech_recognition as st\n",
        "from pydub import AudioSegment\n"
      ],
      "metadata": {
        "id": "hJqsSQZ79Q8B"
      },
      "execution_count": null,
      "outputs": []
    },
    {
      "cell_type": "code",
      "source": [
        "# Corrected file path - removed the extra .mp3 extension\n",
        "mp3_file = '/content/speech1.mp3'\n",
        "wav_file = '/content/speech1.wav'"
      ],
      "metadata": {
        "id": "8wDhouXM9SKx"
      },
      "execution_count": null,
      "outputs": []
    },
    {
      "cell_type": "code",
      "source": [
        "audio = AudioSegment.from_mp3(mp3_file)\n",
        "audio.export(\"audio.wav\", format=\"wav\")"
      ],
      "metadata": {
        "id": "5LslwdYt9Vax"
      },
      "execution_count": null,
      "outputs": []
    },
    {
      "cell_type": "code",
      "source": [
        "r = st.Recognizer()\n",
        "with st.AudioFile(\"audio.wav\") as source:\n",
        "    audio_data = r.record(source)\n",
        "    try:\n",
        "        text = r.recognize_google(audio_data)\n",
        "        print(\"Text from audio:\")\n",
        "        print(text)\n",
        "    except st.UnknownValueError:\n",
        "        print(\"Speech Recognition could not understand audio\")\n",
        "    except st.RequestError as e:\n",
        "        print(f\"Could not request results from Google Speech Recognition service; {e}\")\n"
      ],
      "metadata": {
        "id": "PxUbEo0c910B"
      },
      "execution_count": null,
      "outputs": []
    },
    {
      "cell_type": "code",
      "source": [
        "!pip install transformers\n"
      ],
      "metadata": {
        "id": "sFW0xnfo58Oc"
      },
      "execution_count": null,
      "outputs": []
    },
    {
      "cell_type": "code",
      "source": [
        "from transformers import pipeline"
      ],
      "metadata": {
        "id": "0ZoCdspZ6AaT"
      },
      "execution_count": null,
      "outputs": []
    },
    {
      "cell_type": "code",
      "source": [
        "summarizer = pipeline(\"summarization\")\n",
        "if 'text' in locals() and text:\n",
        "  pass"
      ],
      "metadata": {
        "id": "5GvdRCVE6gMz"
      },
      "execution_count": null,
      "outputs": []
    },
    {
      "cell_type": "code",
      "source": [
        "summary = summarizer(text, max_length=130, min_length=30, do_sample=False)\n",
        "print(\"\\nSummary:\")"
      ],
      "metadata": {
        "id": "aY16Vv5i6MkU"
      },
      "execution_count": null,
      "outputs": []
    },
    {
      "cell_type": "code",
      "source": [
        "print(summary[0]['summary_text'])\n"
      ],
      "metadata": {
        "id": "_ckGcYcMB-zO"
      },
      "execution_count": null,
      "outputs": []
    },
    {
      "cell_type": "code",
      "source": [
        "if 'summary' in locals() and summary:\n",
        "    summary_text = summary[0]['summary_text']\n",
        "    with open('/content/summary.txt', 'w') as f:\n",
        "        f.write(summary_text)\n",
        "    print(\"\\nSummary saved to /content/summary.txt\")"
      ],
      "metadata": {
        "id": "ohVjyhw7CWvW"
      },
      "execution_count": null,
      "outputs": []
    },
    {
      "cell_type": "code",
      "source": [
        "!pip install SpeechRecognition pydub\n"
      ],
      "metadata": {
        "id": "dslaao21FIfu"
      },
      "execution_count": null,
      "outputs": []
    },
    {
      "cell_type": "code",
      "source": [
        "from pydub import AudioSegment\n",
        "mp3_file = \"/content/speech1.mp3\"\n",
        "wav_file = \"/content/speech1.wav\"\n",
        "audio = AudioSegment.from_mp3(mp3_file)\n",
        "audio.export(wav_file, format=\"wav\")"
      ],
      "metadata": {
        "id": "4QfLg-POFLkU"
      },
      "execution_count": null,
      "outputs": []
    },
    {
      "cell_type": "code",
      "source": [
        "import speech_recognition as sr\n",
        "reco = sr.Recognizer()\n",
        "with sr.AudioFile('//content/speech1.wav') as source:\n",
        "  audio_data = reco.record(source)\n",
        "  print(\"Transcript: \",reco.recognize_google(audio_data))"
      ],
      "metadata": {
        "id": "aVZ9q98NFeEk"
      },
      "execution_count": null,
      "outputs": []
    },
    {
      "cell_type": "code",
      "source": [
        "!pip install transformers"
      ],
      "metadata": {
        "id": "eDIDMbXQFzw1"
      },
      "execution_count": null,
      "outputs": []
    },
    {
      "cell_type": "code",
      "source": [
        "from transformers import pipeline"
      ],
      "metadata": {
        "id": "Yf8ZVMnTF4_1"
      },
      "execution_count": null,
      "outputs": []
    },
    {
      "cell_type": "code",
      "source": [
        "summarizer = pipeline(\"summarization\")"
      ],
      "metadata": {
        "id": "ZVEZknnUF7a0"
      },
      "execution_count": null,
      "outputs": []
    },
    {
      "cell_type": "code",
      "source": [
        "if 'text' in locals() and text:\n",
        "  pass"
      ],
      "metadata": {
        "id": "g349lW3NGE8c"
      },
      "execution_count": null,
      "outputs": []
    },
    {
      "cell_type": "code",
      "source": [
        "summary = summarizer(text, max_length=130, min_length=30, do_sample=False)\n",
        "print(\"\\nSummary:\")"
      ],
      "metadata": {
        "id": "9QpuaKt6GHsr"
      },
      "execution_count": null,
      "outputs": []
    },
    {
      "cell_type": "code",
      "source": [
        "print(summary[0]['summary_text'])"
      ],
      "metadata": {
        "id": "OFaahyWWGLc8"
      },
      "execution_count": null,
      "outputs": []
    },
    {
      "cell_type": "code",
      "source": [
        "if 'summary' in locals() and summary:\n",
        "    summary_text = summary[0]['summary_text']\n",
        "    with open('/content/summary.txt', 'w') as f:\n",
        "        f.write(summary_text)\n",
        "    print(\"\\nSummary saved to /content/summary.txt\")\n"
      ],
      "metadata": {
        "id": "G7-TbOzlGPdc"
      },
      "execution_count": null,
      "outputs": []
    },
    {
      "cell_type": "code",
      "source": [
        "import smtplib\n",
        "from email.mime.text import MIMEText"
      ],
      "metadata": {
        "id": "66GjUd1cGU0E"
      },
      "execution_count": null,
      "outputs": []
    },
    {
      "cell_type": "code",
      "source": [
        "sender_email = \"baigmahir0206@gmail.com\"\n",
        "sender_password = \"prpp aqeb wnhw fkql\"\n",
        "receiver_email = \"231fa04478@gmail.com\"\n",
        "subject = \"Meeting Summary\"\n",
        "body = summary[0]['summary_text']"
      ],
      "metadata": {
        "id": "rkHSkKkxGV6j"
      },
      "execution_count": null,
      "outputs": []
    },
    {
      "cell_type": "code",
      "source": [
        "msg = MIMEText(body)\n",
        "msg['Subject'] = subject\n",
        "msg['From'] = sender_email\n",
        "msg['To'] = receiver_email"
      ],
      "metadata": {
        "id": "2sS5gvu8GhQk"
      },
      "execution_count": null,
      "outputs": []
    },
    {
      "cell_type": "code",
      "source": [
        "try:\n",
        "    server = smtplib.SMTP_SSL('smtp.gmail.com', 465)\n",
        "    server.login(sender_email, sender_password)\n",
        "    server.sendmail(sender_email, receiver_email, msg.as_string())\n",
        "    server.quit()\n",
        "    print(\"Email sent successfully!\")\n",
        "except Exception as e:\n",
        "    print(f\"Error sending email: {e}\")"
      ],
      "metadata": {
        "id": "sr3MjC0IGlYj",
        "colab": {
          "base_uri": "https://localhost:8080/"
        },
        "outputId": "012ca677-46db-4fb6-c7b5-a87c47875c12"
      },
      "execution_count": null,
      "outputs": [
        {
          "output_type": "stream",
          "name": "stdout",
          "text": [
            "Email sent successfully!\n"
          ]
        }
      ]
    }
  ]
}